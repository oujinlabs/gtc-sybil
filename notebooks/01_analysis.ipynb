{
 "cells": [
  {
   "cell_type": "markdown",
   "id": "5213386b",
   "metadata": {},
   "source": [
    "# Sybil Slayer\n",
    "\n",
    "- **Author**: Oujin Labs\n",
    "- **Creation Date**: 30/10/2022\n",
    "- **Last Update**: 30/10/2022\n",
    "\n",
    "## Description\n",
    "\n",
    "The goal of this notebook is to explore Gitcoin Grant data in order to propose a solution aimed at identifying sybil accounts. Although one of the project task is to train an ML model able to detect sybil accounts, we haven't been provided labels to do so. Hence, in this notebook, I'll try to extract information and create signals which could indicate that, in the context of a gitcoin grant, one of the contributor is a sybil account.\n",
    "\n",
    "The data we will used consist of:\n",
    "\n",
    "- GR15: `hackathon-contributions-dataset_v2.csv`\n",
    "- Etherscan API (transactions)"
   ]
  },
  {
   "cell_type": "code",
   "execution_count": 1,
   "id": "85d39630",
   "metadata": {},
   "outputs": [],
   "source": [
    "import os\n",
    "import requests\n",
    "\n",
    "import numpy as np\n",
    "import pandas as pd"
   ]
  },
  {
   "cell_type": "code",
   "execution_count": 2,
   "id": "432e1991",
   "metadata": {},
   "outputs": [
    {
     "data": {
      "text/plain": [
       "['gr15_grants.json',\n",
       " 'hackathon-contributions-dataset_v2.csv',\n",
       " 'grants_applications_gr15.json',\n",
       " 'GR15_grant_review_experiment.xlsx']"
      ]
     },
     "execution_count": 2,
     "metadata": {},
     "output_type": "execute_result"
    }
   ],
   "source": [
    "os.listdir('../data/GR15_public_hackathon/')"
   ]
  },
  {
   "cell_type": "code",
   "execution_count": 3,
   "id": "39d64bd9",
   "metadata": {},
   "outputs": [],
   "source": [
    "df_grants = pd.read_json('../data/GR15_public_hackathon/gr15_grants.json').T"
   ]
  },
  {
   "cell_type": "code",
   "execution_count": 4,
   "id": "678c9038",
   "metadata": {},
   "outputs": [
    {
     "data": {
      "text/plain": [
       "(1503, 16)"
      ]
     },
     "execution_count": 4,
     "metadata": {},
     "output_type": "execute_result"
    }
   ],
   "source": [
    "df_grants.shape"
   ]
  },
  {
   "cell_type": "markdown",
   "id": "4d1647e1",
   "metadata": {},
   "source": [
    "# Load Data\n",
    "\n",
    "First, let's load the hackathon contribution dataset, which summarises every contributation made to a grant on gitcoin. For every contributions, we know the user who contributed and the grant to which the contribution was made as well as the chain used, the transaction hash, the amount and the timestamp at which the contribution was made."
   ]
  },
  {
   "cell_type": "code",
   "execution_count": 5,
   "id": "525b5c0a",
   "metadata": {},
   "outputs": [
    {
     "name": "stdout",
     "output_type": "stream",
     "text": [
      "CPU times: user 2.65 s, sys: 285 ms, total: 2.93 s\n",
      "Wall time: 3.01 s\n"
     ]
    }
   ],
   "source": [
    "%%time\n",
    "df_contrib = pd.read_csv('../data/GR15_public_hackathon/hackathon-contributions-dataset_v2.csv')"
   ]
  },
  {
   "cell_type": "code",
   "execution_count": 6,
   "id": "083d6404",
   "metadata": {},
   "outputs": [
    {
     "data": {
      "text/plain": [
       "(475046, 10)"
      ]
     },
     "execution_count": 6,
     "metadata": {},
     "output_type": "execute_result"
    }
   ],
   "source": [
    "df_contrib.shape"
   ]
  },
  {
   "cell_type": "code",
   "execution_count": 7,
   "id": "9bfe2c0d",
   "metadata": {},
   "outputs": [
    {
     "data": {
      "text/html": [
       "<div>\n",
       "<style scoped>\n",
       "    .dataframe tbody tr th:only-of-type {\n",
       "        vertical-align: middle;\n",
       "    }\n",
       "\n",
       "    .dataframe tbody tr th {\n",
       "        vertical-align: top;\n",
       "    }\n",
       "\n",
       "    .dataframe thead th {\n",
       "        text-align: right;\n",
       "    }\n",
       "</style>\n",
       "<table border=\"1\" class=\"dataframe\">\n",
       "  <thead>\n",
       "    <tr style=\"text-align: right;\">\n",
       "      <th></th>\n",
       "      <th>txn_id</th>\n",
       "      <th>user_id</th>\n",
       "      <th>address</th>\n",
       "      <th>grant_id</th>\n",
       "      <th>chain</th>\n",
       "      <th>txn_hash</th>\n",
       "      <th>network</th>\n",
       "      <th>token</th>\n",
       "      <th>amount_in_usdt</th>\n",
       "      <th>timestamp</th>\n",
       "    </tr>\n",
       "  </thead>\n",
       "  <tbody>\n",
       "    <tr>\n",
       "      <th>0</th>\n",
       "      <td>9a7955760b945121d7ac2e3ccf8c53bb19389939d83a78...</td>\n",
       "      <td>205fdbe0783c1725849a6c243e23156d3c6679e2403beb...</td>\n",
       "      <td>0x76f69dcddd0593b0aff5fd3280c3433ddb68e0d2</td>\n",
       "      <td>6972</td>\n",
       "      <td>eth_std</td>\n",
       "      <td>0x1429017d0f1c7878713edb89f09f21ef5fce6afa6369...</td>\n",
       "      <td>mainnet</td>\n",
       "      <td>ETH</td>\n",
       "      <td>1.283650</td>\n",
       "      <td>2022-09-22 23:59:55.773190+00:00</td>\n",
       "    </tr>\n",
       "    <tr>\n",
       "      <th>1</th>\n",
       "      <td>8d656b874ef8b642bbab30e2e0164922287d8156182e61...</td>\n",
       "      <td>9872683fceb5011d980cbdce560d5c3c1dd4007ee936be...</td>\n",
       "      <td>0x1bc5ebee4738fd95bd96751c45a90889f772e0f3</td>\n",
       "      <td>2400</td>\n",
       "      <td>eth_zksync</td>\n",
       "      <td>sync-tx:d36b99aa6a9e2a3de02dc0f82562f6bcfd7caa...</td>\n",
       "      <td>mainnet</td>\n",
       "      <td>ETH</td>\n",
       "      <td>1.001247</td>\n",
       "      <td>2022-09-22 23:59:53.052568+00:00</td>\n",
       "    </tr>\n",
       "    <tr>\n",
       "      <th>2</th>\n",
       "      <td>fe14bb2c777595fcc407de7ec454e26ddaa48df2c11a6e...</td>\n",
       "      <td>67d35e9ecb471310efe99c9d12ffc6a9816db2cf6e9ac0...</td>\n",
       "      <td>0x3812801cbf0e41413db4835a5e36228ad45e32bf</td>\n",
       "      <td>7243</td>\n",
       "      <td>eth_polygon</td>\n",
       "      <td>0xa9ffea4e1135b52184647d0e42ced22b4f99a7a6e778...</td>\n",
       "      <td>mainnet</td>\n",
       "      <td>MATIC</td>\n",
       "      <td>1.001943</td>\n",
       "      <td>2022-09-22 23:59:52.331798+00:00</td>\n",
       "    </tr>\n",
       "    <tr>\n",
       "      <th>3</th>\n",
       "      <td>1d5435fae1a9942df47eb4a30c49acf418888fc7bbd233...</td>\n",
       "      <td>9872683fceb5011d980cbdce560d5c3c1dd4007ee936be...</td>\n",
       "      <td>0x1bc5ebee4738fd95bd96751c45a90889f772e0f3</td>\n",
       "      <td>3023</td>\n",
       "      <td>eth_zksync</td>\n",
       "      <td>sync-tx:7a8d72bdf0af9cf3b3756437e69610a706902e...</td>\n",
       "      <td>mainnet</td>\n",
       "      <td>ETH</td>\n",
       "      <td>1.001247</td>\n",
       "      <td>2022-09-22 23:59:52.133974+00:00</td>\n",
       "    </tr>\n",
       "    <tr>\n",
       "      <th>4</th>\n",
       "      <td>e3aa9456a2fac0019086e42b9a065ac0e40d108e436d1b...</td>\n",
       "      <td>9872683fceb5011d980cbdce560d5c3c1dd4007ee936be...</td>\n",
       "      <td>0x1bc5ebee4738fd95bd96751c45a90889f772e0f3</td>\n",
       "      <td>4811</td>\n",
       "      <td>eth_zksync</td>\n",
       "      <td>sync-tx:1f0521d2dbe03f283cc412eb9f6affa527eae0...</td>\n",
       "      <td>mainnet</td>\n",
       "      <td>ETH</td>\n",
       "      <td>1.001247</td>\n",
       "      <td>2022-09-22 23:59:51.260699+00:00</td>\n",
       "    </tr>\n",
       "  </tbody>\n",
       "</table>\n",
       "</div>"
      ],
      "text/plain": [
       "                                              txn_id  \\\n",
       "0  9a7955760b945121d7ac2e3ccf8c53bb19389939d83a78...   \n",
       "1  8d656b874ef8b642bbab30e2e0164922287d8156182e61...   \n",
       "2  fe14bb2c777595fcc407de7ec454e26ddaa48df2c11a6e...   \n",
       "3  1d5435fae1a9942df47eb4a30c49acf418888fc7bbd233...   \n",
       "4  e3aa9456a2fac0019086e42b9a065ac0e40d108e436d1b...   \n",
       "\n",
       "                                             user_id  \\\n",
       "0  205fdbe0783c1725849a6c243e23156d3c6679e2403beb...   \n",
       "1  9872683fceb5011d980cbdce560d5c3c1dd4007ee936be...   \n",
       "2  67d35e9ecb471310efe99c9d12ffc6a9816db2cf6e9ac0...   \n",
       "3  9872683fceb5011d980cbdce560d5c3c1dd4007ee936be...   \n",
       "4  9872683fceb5011d980cbdce560d5c3c1dd4007ee936be...   \n",
       "\n",
       "                                      address  grant_id        chain  \\\n",
       "0  0x76f69dcddd0593b0aff5fd3280c3433ddb68e0d2      6972      eth_std   \n",
       "1  0x1bc5ebee4738fd95bd96751c45a90889f772e0f3      2400   eth_zksync   \n",
       "2  0x3812801cbf0e41413db4835a5e36228ad45e32bf      7243  eth_polygon   \n",
       "3  0x1bc5ebee4738fd95bd96751c45a90889f772e0f3      3023   eth_zksync   \n",
       "4  0x1bc5ebee4738fd95bd96751c45a90889f772e0f3      4811   eth_zksync   \n",
       "\n",
       "                                            txn_hash  network  token  \\\n",
       "0  0x1429017d0f1c7878713edb89f09f21ef5fce6afa6369...  mainnet    ETH   \n",
       "1  sync-tx:d36b99aa6a9e2a3de02dc0f82562f6bcfd7caa...  mainnet    ETH   \n",
       "2  0xa9ffea4e1135b52184647d0e42ced22b4f99a7a6e778...  mainnet  MATIC   \n",
       "3  sync-tx:7a8d72bdf0af9cf3b3756437e69610a706902e...  mainnet    ETH   \n",
       "4  sync-tx:1f0521d2dbe03f283cc412eb9f6affa527eae0...  mainnet    ETH   \n",
       "\n",
       "   amount_in_usdt                         timestamp  \n",
       "0        1.283650  2022-09-22 23:59:55.773190+00:00  \n",
       "1        1.001247  2022-09-22 23:59:53.052568+00:00  \n",
       "2        1.001943  2022-09-22 23:59:52.331798+00:00  \n",
       "3        1.001247  2022-09-22 23:59:52.133974+00:00  \n",
       "4        1.001247  2022-09-22 23:59:51.260699+00:00  "
      ]
     },
     "execution_count": 7,
     "metadata": {},
     "output_type": "execute_result"
    }
   ],
   "source": [
    "df_contrib.head()"
   ]
  },
  {
   "cell_type": "code",
   "execution_count": 8,
   "id": "faa1a521",
   "metadata": {},
   "outputs": [
    {
     "data": {
      "text/plain": [
       "(432387, 10)"
      ]
     },
     "execution_count": 8,
     "metadata": {},
     "output_type": "execute_result"
    }
   ],
   "source": [
    "df_contrib = df_contrib.drop_duplicates()\n",
    "df_contrib.shape"
   ]
  },
  {
   "cell_type": "code",
   "execution_count": 9,
   "id": "7226db79",
   "metadata": {},
   "outputs": [],
   "source": [
    "df_contrib = df_contrib.sort_values(by='timestamp')"
   ]
  },
  {
   "cell_type": "markdown",
   "id": "d66faff4",
   "metadata": {},
   "source": [
    "Since I'm running out of time, I will select a single grant on which I will focus my analysis on. It should be a grant with relatively few contributors so that I can do some \"manual analysis\"."
   ]
  },
  {
   "cell_type": "code",
   "execution_count": 163,
   "id": "920b8b34",
   "metadata": {},
   "outputs": [
    {
     "data": {
      "text/plain": [
       "7408    989\n",
       "6847     19\n",
       "7833     64\n",
       "7541      6\n",
       "5900    614\n",
       "3920     33\n",
       "7331     19\n",
       "6069      2\n",
       "524      30\n",
       "5041      5\n",
       "7887      8\n",
       "4385    119\n",
       "Name: grant_id, dtype: int64"
      ]
     },
     "execution_count": 163,
     "metadata": {},
     "output_type": "execute_result"
    }
   ],
   "source": [
    "df_contrib['grant_id'].value_counts().sample(12)"
   ]
  },
  {
   "cell_type": "code",
   "execution_count": 168,
   "id": "39c13fcf",
   "metadata": {},
   "outputs": [],
   "source": [
    "# Let's select the grant 7300 - it has had 367 contributions.\n",
    "df_contrib_sub = df_contrib.loc[df_contrib['grant_id'] == 7300]"
   ]
  },
  {
   "cell_type": "code",
   "execution_count": 169,
   "id": "a9ec6d0d",
   "metadata": {},
   "outputs": [
    {
     "name": "stdout",
     "output_type": "stream",
     "text": [
      "(367, 10)\n"
     ]
    },
    {
     "data": {
      "text/html": [
       "<div>\n",
       "<style scoped>\n",
       "    .dataframe tbody tr th:only-of-type {\n",
       "        vertical-align: middle;\n",
       "    }\n",
       "\n",
       "    .dataframe tbody tr th {\n",
       "        vertical-align: top;\n",
       "    }\n",
       "\n",
       "    .dataframe thead th {\n",
       "        text-align: right;\n",
       "    }\n",
       "</style>\n",
       "<table border=\"1\" class=\"dataframe\">\n",
       "  <thead>\n",
       "    <tr style=\"text-align: right;\">\n",
       "      <th></th>\n",
       "      <th>txn_id</th>\n",
       "      <th>user_id</th>\n",
       "      <th>address</th>\n",
       "      <th>grant_id</th>\n",
       "      <th>chain</th>\n",
       "      <th>txn_hash</th>\n",
       "      <th>network</th>\n",
       "      <th>token</th>\n",
       "      <th>amount_in_usdt</th>\n",
       "      <th>timestamp</th>\n",
       "    </tr>\n",
       "  </thead>\n",
       "  <tbody>\n",
       "    <tr>\n",
       "      <th>474565</th>\n",
       "      <td>8a87ed993f448090d98eb6c85a952603bbb75682ad5eef...</td>\n",
       "      <td>434abbc6237b312b30c10383adb3ab797162bc0d4c0115...</td>\n",
       "      <td>0x6780f6e186667addec40c1e2b2d3c5c6cb6b1240</td>\n",
       "      <td>7300</td>\n",
       "      <td>eth_std</td>\n",
       "      <td>0xe1eb6aa5058a438dcc69fbaaeb0e7f65b8042fa4d05b...</td>\n",
       "      <td>mainnet</td>\n",
       "      <td>DAI</td>\n",
       "      <td>15.000000</td>\n",
       "      <td>2022-09-07 17:09:16.243541+00:00</td>\n",
       "    </tr>\n",
       "    <tr>\n",
       "      <th>473810</th>\n",
       "      <td>87baa1dace499aedaf0fe9048fa1d53ee7efe5563595c7...</td>\n",
       "      <td>0429c9ccc8a41294887a6fd419d28911523d726c1779f1...</td>\n",
       "      <td>0x5a5d9ab7b1bd978f80909503ebb828879daca9c3</td>\n",
       "      <td>7300</td>\n",
       "      <td>eth_zksync</td>\n",
       "      <td>sync-tx:85d7eee5346d5c067e3dc29d9e51e1c844cf40...</td>\n",
       "      <td>mainnet</td>\n",
       "      <td>DAI</td>\n",
       "      <td>1.010000</td>\n",
       "      <td>2022-09-07 19:14:00.370912+00:00</td>\n",
       "    </tr>\n",
       "    <tr>\n",
       "      <th>473678</th>\n",
       "      <td>18d678fc1c3e0b773a8200003ed09794a1830a6c14d00e...</td>\n",
       "      <td>e1e5ee0ac53f1b9ef99e623c561c7ff8575aff1e898c2c...</td>\n",
       "      <td>0x681bb473da4045b26fabc040ca9c6c5e80cbd451</td>\n",
       "      <td>7300</td>\n",
       "      <td>eth_std</td>\n",
       "      <td>0xe82befbc1082a1a0376257978e771ab1491518744580...</td>\n",
       "      <td>mainnet</td>\n",
       "      <td>DAI</td>\n",
       "      <td>2.000000</td>\n",
       "      <td>2022-09-07 19:33:21.953516+00:00</td>\n",
       "    </tr>\n",
       "    <tr>\n",
       "      <th>473354</th>\n",
       "      <td>88301092a4c18304b778ef82ef0dcb075aee569ca9aea0...</td>\n",
       "      <td>b9b40b6c8a85842113129af338f8e38e925123197b652e...</td>\n",
       "      <td>0x4a24d4a7c36257e0bf256ea2970708817c597a2c</td>\n",
       "      <td>7300</td>\n",
       "      <td>eth_std</td>\n",
       "      <td>0xb819f8e7980f0899f802f21da5217b9f8499cbfccdc1...</td>\n",
       "      <td>mainnet</td>\n",
       "      <td>DAI</td>\n",
       "      <td>7.000000</td>\n",
       "      <td>2022-09-07 20:11:01.178786+00:00</td>\n",
       "    </tr>\n",
       "    <tr>\n",
       "      <th>473281</th>\n",
       "      <td>d27b86aef4edd1f64a5fd549b1b9091b72ac337eebfa9e...</td>\n",
       "      <td>f9e614b640569ead272178d5bb40b49d758e421e7fbaa4...</td>\n",
       "      <td>0xce849efc35a0a0a046e67c76b477c5432e4ba58b</td>\n",
       "      <td>7300</td>\n",
       "      <td>eth_zksync</td>\n",
       "      <td>sync-tx:f283065c04e69053a8abe8d9daff3c598b87a9...</td>\n",
       "      <td>mainnet</td>\n",
       "      <td>ETH</td>\n",
       "      <td>1.253164</td>\n",
       "      <td>2022-09-07 20:15:33.463158+00:00</td>\n",
       "    </tr>\n",
       "  </tbody>\n",
       "</table>\n",
       "</div>"
      ],
      "text/plain": [
       "                                                   txn_id  \\\n",
       "474565  8a87ed993f448090d98eb6c85a952603bbb75682ad5eef...   \n",
       "473810  87baa1dace499aedaf0fe9048fa1d53ee7efe5563595c7...   \n",
       "473678  18d678fc1c3e0b773a8200003ed09794a1830a6c14d00e...   \n",
       "473354  88301092a4c18304b778ef82ef0dcb075aee569ca9aea0...   \n",
       "473281  d27b86aef4edd1f64a5fd549b1b9091b72ac337eebfa9e...   \n",
       "\n",
       "                                                  user_id  \\\n",
       "474565  434abbc6237b312b30c10383adb3ab797162bc0d4c0115...   \n",
       "473810  0429c9ccc8a41294887a6fd419d28911523d726c1779f1...   \n",
       "473678  e1e5ee0ac53f1b9ef99e623c561c7ff8575aff1e898c2c...   \n",
       "473354  b9b40b6c8a85842113129af338f8e38e925123197b652e...   \n",
       "473281  f9e614b640569ead272178d5bb40b49d758e421e7fbaa4...   \n",
       "\n",
       "                                           address  grant_id       chain  \\\n",
       "474565  0x6780f6e186667addec40c1e2b2d3c5c6cb6b1240      7300     eth_std   \n",
       "473810  0x5a5d9ab7b1bd978f80909503ebb828879daca9c3      7300  eth_zksync   \n",
       "473678  0x681bb473da4045b26fabc040ca9c6c5e80cbd451      7300     eth_std   \n",
       "473354  0x4a24d4a7c36257e0bf256ea2970708817c597a2c      7300     eth_std   \n",
       "473281  0xce849efc35a0a0a046e67c76b477c5432e4ba58b      7300  eth_zksync   \n",
       "\n",
       "                                                 txn_hash  network token  \\\n",
       "474565  0xe1eb6aa5058a438dcc69fbaaeb0e7f65b8042fa4d05b...  mainnet   DAI   \n",
       "473810  sync-tx:85d7eee5346d5c067e3dc29d9e51e1c844cf40...  mainnet   DAI   \n",
       "473678  0xe82befbc1082a1a0376257978e771ab1491518744580...  mainnet   DAI   \n",
       "473354  0xb819f8e7980f0899f802f21da5217b9f8499cbfccdc1...  mainnet   DAI   \n",
       "473281  sync-tx:f283065c04e69053a8abe8d9daff3c598b87a9...  mainnet   ETH   \n",
       "\n",
       "        amount_in_usdt                         timestamp  \n",
       "474565       15.000000  2022-09-07 17:09:16.243541+00:00  \n",
       "473810        1.010000  2022-09-07 19:14:00.370912+00:00  \n",
       "473678        2.000000  2022-09-07 19:33:21.953516+00:00  \n",
       "473354        7.000000  2022-09-07 20:11:01.178786+00:00  \n",
       "473281        1.253164  2022-09-07 20:15:33.463158+00:00  "
      ]
     },
     "execution_count": 169,
     "metadata": {},
     "output_type": "execute_result"
    }
   ],
   "source": [
    "print(df_contrib_sub.shape)\n",
    "df_contrib_sub.head()"
   ]
  },
  {
   "cell_type": "code",
   "execution_count": 170,
   "id": "24c817b4",
   "metadata": {},
   "outputs": [
    {
     "data": {
      "text/html": [
       "<div>\n",
       "<style scoped>\n",
       "    .dataframe tbody tr th:only-of-type {\n",
       "        vertical-align: middle;\n",
       "    }\n",
       "\n",
       "    .dataframe tbody tr th {\n",
       "        vertical-align: top;\n",
       "    }\n",
       "\n",
       "    .dataframe thead th {\n",
       "        text-align: right;\n",
       "    }\n",
       "</style>\n",
       "<table border=\"1\" class=\"dataframe\">\n",
       "  <thead>\n",
       "    <tr style=\"text-align: right;\">\n",
       "      <th></th>\n",
       "      <th>grant_id</th>\n",
       "      <th>active</th>\n",
       "      <th>title</th>\n",
       "      <th>address</th>\n",
       "      <th>amount_received</th>\n",
       "      <th>amount_received_in_round</th>\n",
       "      <th>contribution_count</th>\n",
       "      <th>contributor_count</th>\n",
       "      <th>description</th>\n",
       "      <th>website</th>\n",
       "      <th>github_project_url</th>\n",
       "      <th>twitter_handle_2</th>\n",
       "      <th>twitter_handle_1</th>\n",
       "      <th>twitter_verified</th>\n",
       "      <th>created_on</th>\n",
       "      <th>last_update</th>\n",
       "    </tr>\n",
       "  </thead>\n",
       "  <tbody>\n",
       "    <tr>\n",
       "      <th>342</th>\n",
       "      <td>7300</td>\n",
       "      <td>True</td>\n",
       "      <td>MRV 101</td>\n",
       "      <td>0x7fc1a3D5264a2B2563162EbAF17180ED2e5804BC</td>\n",
       "      <td>1655.7895</td>\n",
       "      <td>1654.0433</td>\n",
       "      <td>369</td>\n",
       "      <td>255</td>\n",
       "      <td>TL;DR\\r\\nHere is a detailed twitter thread by ...</td>\n",
       "      <td>https://discord.gg/3J9qeau2vQ</td>\n",
       "      <td>None</td>\n",
       "      <td>magentaceiba</td>\n",
       "      <td>MRV1O1</td>\n",
       "      <td>True</td>\n",
       "      <td>2022-08-30 18:49:19+00:00</td>\n",
       "      <td>2022-09-14 18:13:39.693505+00:00</td>\n",
       "    </tr>\n",
       "  </tbody>\n",
       "</table>\n",
       "</div>"
      ],
      "text/plain": [
       "    grant_id active    title                                     address  \\\n",
       "342     7300   True  MRV 101  0x7fc1a3D5264a2B2563162EbAF17180ED2e5804BC   \n",
       "\n",
       "    amount_received amount_received_in_round contribution_count  \\\n",
       "342       1655.7895                1654.0433                369   \n",
       "\n",
       "    contributor_count                                        description  \\\n",
       "342               255  TL;DR\\r\\nHere is a detailed twitter thread by ...   \n",
       "\n",
       "                           website github_project_url twitter_handle_2  \\\n",
       "342  https://discord.gg/3J9qeau2vQ               None     magentaceiba   \n",
       "\n",
       "    twitter_handle_1 twitter_verified                 created_on  \\\n",
       "342           MRV1O1             True  2022-08-30 18:49:19+00:00   \n",
       "\n",
       "                          last_update  \n",
       "342  2022-09-14 18:13:39.693505+00:00  "
      ]
     },
     "execution_count": 170,
     "metadata": {},
     "output_type": "execute_result"
    }
   ],
   "source": [
    "# Display info about the grant\n",
    "df_grants.loc[\n",
    "    df_grants['grant_id'] == 7300\n",
    "]"
   ]
  },
  {
   "cell_type": "markdown",
   "id": "e12a043f",
   "metadata": {},
   "source": [
    "## Grant 7300 - MRV 101\t"
   ]
  },
  {
   "cell_type": "code",
   "execution_count": 171,
   "id": "8d495b41",
   "metadata": {},
   "outputs": [
    {
     "name": "stdout",
     "output_type": "stream",
     "text": [
      "TL;DR\r\n",
      "Here is a detailed twitter thread by @darinmandarin. and here is a tweet from @Gitcoin\r\n",
      "\r\n",
      "\r\n",
      "MRV 1O1 is a project that spun out of a founder’s circle in the ReFi DAO. When it comes to safeguarding our food supply from effects of climate change, effective measurement, reporting and verification (MRV) of soil regeneration, Crops’ health improvement and biodiversity enhancement is critical to help small scale farmers and growers navigate tough challenges of climate change.\r\n",
      "\r\n",
      "To help small scale projects get full benefits of carbon, ecocredits and other incentives for ecosystem services, MRV Research Group is working to publish MRV1O1, a guide to quickly understand and implement relevant MRV best practices.\r\n",
      "\r\n",
      "\r\n",
      "\r\n",
      "The Problem\r\n",
      "\r\n",
      "Traditional MRV approaches are prohibitively expensive, often constituting 30-40% of the costs for large projects over 1200 hectares. What’s worse, these expenses are always upfront before generating revenue from the project. Additionally, the MRV methodologies are difficult to understand and often do not include regenerative practices valued by local communities. Data gathered during traditional MRV practices is usually kept in silos and has no useful application or benefits for smaller farmers.\r\n",
      "Small farmers produce most of the world’s food supply and they don’t have any solutions to turn to Regenerative Practices. This scenario offers us a significant opportunity for regenerative impact. Additionally, Small farmers need support in switching to regenerative practices to protect their farms and livelihood from the effects of climate change.\r\n",
      "\r\n",
      "Our Solution\r\n",
      "\r\n",
      "To publish a guide with the tools needed for small projects to conduct MRV and reap the rewards. In the guide’s first edition, we are starting with agriculture, agroforestry, and small-scale farming examples. We plan to cover other types of projects in future versions.\r\n",
      "\r\n",
      "Deliverables (Each Phase lasting ~ 4-6 months)\r\n",
      "\r\n",
      "Phase 1: Understanding traditional MRV approaches, with in-depth Research.\r\n",
      "\r\n",
      "Phase 2: Filtering out relevant MRV practices for Small Scale Projects.\r\n",
      "\r\n",
      "Phase 3: Combining Our learnings with on-ground best practices and publish the guide.\r\n",
      "\r\n",
      "Phase 4: Automation of data collection, reporting and verification for development of dMRV.\r\n",
      "\r\n",
      "Phase 5: TBD by the working group participants.\r\n",
      "\r\n",
      "\r\n",
      "What the Funds Will Be Used For\r\n",
      "\r\n",
      "Research existing MRV practices such as Verra, Gold Standard, Regen Network and Climate Action Reserve to learn from and adapt existing methodologies to be viable at smaller scale.\r\n",
      "Select relevant additional MRV areas from Bloom Network’s regenerative actions list, in order to include on-the-ground and community-led perspectives on what are valuable impact/results.\r\n",
      "Conduct interviews to understand what questions a project developer needs answered.\r\n",
      "Interview existing sensor tech projects and other results monitoring platforms, to identify which methods are feasible for small-scale projects to implement.\r\n",
      "Publish the MRV 101 guide for small-scale projects. It will help project leaders identify which MRV methodologies make sense for their project, and get up and running with measurement and ReFi protocols as quickly as possible.\r\n",
      "Begin pilot projects with Ogallala Life and Shamba projects.\r\n",
      "Iterate with more impact areas and community feedback\r\n",
      "Through the process we are building collaboration and interoperability across ReFi projects supporting this scale.\r\n",
      "\r\n",
      "Partner Projects\r\n",
      "\r\n",
      "Members of this research group, contributing research and experience. Please also add their Gitcoin grants to your cart, as it increases our capacity to deliver the MRV 101 roadmap.\r\n",
      "\r\n",
      "Shamba, Bloom Network, Ogallala Life, AgroforestDAO, dmeter, kokodao, CarbonCaptors, Silvi, Cosmos for Humanity, Earthist, Coffee Carbon Collective, Kokonut Network\r\n",
      "\r\n",
      "Links\r\n",
      "\r\n",
      "Twitter\r\n",
      "Discord\r\n",
      "Notion\r\n",
      "Website\r\n",
      "\r\n",
      "Impacts\r\n",
      "\r\n",
      "Incentivise smallholder farmers for doing regenerative practices and MRV documentation.\r\n",
      "Improve the scope of VCM to include Biodiversity and other forms of credits.\r\n",
      "Increase citizen participatory methods in VCM, ReFi and climate action.\r\n",
      "Build collaboration with the DeSci community.\r\n",
      "Bring existing MRV tools for the application in small scale projects.\r\n",
      "Develop new tools where gaps are identified.\r\n",
      "\r\n",
      "\r\n",
      "\r\n",
      "\r\n",
      "\r\n",
      "\r\n",
      "\r\n",
      "\r\n",
      "\r\n",
      "\r\n",
      "\r\n",
      "\r\n",
      "\n"
     ]
    }
   ],
   "source": [
    "# Grant description\n",
    "print(df_grants.loc[\n",
    "    df_grants['grant_id'] == 7300,\n",
    "    'description'\n",
    "].values[0])"
   ]
  },
  {
   "cell_type": "markdown",
   "id": "389fbbfc",
   "metadata": {},
   "source": [
    "# Exploratory Analysis"
   ]
  },
  {
   "cell_type": "code",
   "execution_count": 15,
   "id": "0be27cb9",
   "metadata": {},
   "outputs": [
    {
     "data": {
      "text/plain": [
       "txn_id            367\n",
       "user_id           253\n",
       "address           340\n",
       "grant_id            1\n",
       "chain               3\n",
       "txn_hash          367\n",
       "network             2\n",
       "token               6\n",
       "amount_in_usdt    168\n",
       "timestamp         367\n",
       "dtype: int64"
      ]
     },
     "execution_count": 15,
     "metadata": {},
     "output_type": "execute_result"
    }
   ],
   "source": [
    "df_contrib_sub.nunique()"
   ]
  },
  {
   "cell_type": "markdown",
   "id": "425b58e6",
   "metadata": {},
   "source": [
    "The grant had 367 contributions from 253 different contirbutors (gitcoin account). The contributors also used 340 different addresses on 3 different chains (eth, zksync & polygon). Also, there were transaction made on `rinkeby`, which is a testnet. We will drop the `testnet` transactions since they don't really interest us."
   ]
  },
  {
   "cell_type": "code",
   "execution_count": 181,
   "id": "156546d8",
   "metadata": {},
   "outputs": [],
   "source": [
    "df_contrib_sub = df_contrib_sub.loc[df_contrib_sub['network'] == 'mainnet']"
   ]
  },
  {
   "cell_type": "code",
   "execution_count": 183,
   "id": "2ccbe257",
   "metadata": {},
   "outputs": [
    {
     "data": {
      "text/plain": [
       "txn_id            260\n",
       "user_id           231\n",
       "address           237\n",
       "grant_id            1\n",
       "chain               3\n",
       "txn_hash          260\n",
       "network             1\n",
       "token               6\n",
       "amount_in_usdt    141\n",
       "timestamp         260\n",
       "dtype: int64"
      ]
     },
     "execution_count": 183,
     "metadata": {},
     "output_type": "execute_result"
    }
   ],
   "source": [
    "df_contrib_sub.nunique()"
   ]
  },
  {
   "cell_type": "markdown",
   "id": "e9a2ed17",
   "metadata": {},
   "source": [
    "If we remove testnet transactions, we end up with 260 contributions from 231 different contirbutors (gitcoin account). The contributors also used 237 different addresses on 3 different chains (eth, zksync & polygon)."
   ]
  },
  {
   "cell_type": "code",
   "execution_count": 184,
   "id": "5e77a5e5",
   "metadata": {},
   "outputs": [
    {
     "data": {
      "text/plain": [
       "eth_std        89\n",
       "eth_zksync     86\n",
       "eth_polygon    85\n",
       "Name: chain, dtype: int64"
      ]
     },
     "execution_count": 184,
     "metadata": {},
     "output_type": "execute_result"
    }
   ],
   "source": [
    "df_contrib_sub['chain'].fillna('Missing').value_counts()"
   ]
  },
  {
   "cell_type": "markdown",
   "id": "832cb621",
   "metadata": {},
   "source": [
    "## Address with several user ID"
   ]
  },
  {
   "cell_type": "code",
   "execution_count": 185,
   "id": "933a8795",
   "metadata": {},
   "outputs": [
    {
     "data": {
      "text/plain": [
       "address\n",
       "0x8da20a81aa510c420d5a81d62cbbd013e7c76d9e    2\n",
       "0x784c1bbf7135cf8c84869e5dfcfedf378d0721d9    2\n",
       "0x029acdbe5404114088b0824803fd04a7b9ee33a2    1\n",
       "0xb6d57a7ef4f16b3369095c7f99f8aee7849ef8c6    1\n",
       "0xadaae0cf49b422fb24cb988d669e77f4e015608c    1\n",
       "Name: user_id, dtype: int64"
      ]
     },
     "execution_count": 185,
     "metadata": {},
     "output_type": "execute_result"
    }
   ],
   "source": [
    "df_contrib_sub.groupby('address')['user_id'].nunique().sort_values(ascending=False).head(5)"
   ]
  },
  {
   "cell_type": "markdown",
   "id": "36c31838",
   "metadata": {},
   "source": [
    "There were two addresses which were used by more than a single user_id."
   ]
  },
  {
   "cell_type": "code",
   "execution_count": 186,
   "id": "8281dda8",
   "metadata": {},
   "outputs": [
    {
     "data": {
      "text/html": [
       "<div>\n",
       "<style scoped>\n",
       "    .dataframe tbody tr th:only-of-type {\n",
       "        vertical-align: middle;\n",
       "    }\n",
       "\n",
       "    .dataframe tbody tr th {\n",
       "        vertical-align: top;\n",
       "    }\n",
       "\n",
       "    .dataframe thead th {\n",
       "        text-align: right;\n",
       "    }\n",
       "</style>\n",
       "<table border=\"1\" class=\"dataframe\">\n",
       "  <thead>\n",
       "    <tr style=\"text-align: right;\">\n",
       "      <th></th>\n",
       "      <th>txn_id</th>\n",
       "      <th>user_id</th>\n",
       "      <th>address</th>\n",
       "      <th>grant_id</th>\n",
       "      <th>chain</th>\n",
       "      <th>txn_hash</th>\n",
       "      <th>network</th>\n",
       "      <th>token</th>\n",
       "      <th>amount_in_usdt</th>\n",
       "      <th>timestamp</th>\n",
       "    </tr>\n",
       "  </thead>\n",
       "  <tbody>\n",
       "    <tr>\n",
       "      <th>302795</th>\n",
       "      <td>02532b03b40597b7e2f45e9fb5cb94020e05ffe1acb180...</td>\n",
       "      <td>e605583cc7f57addbc2106b42510853efec4ba23bd5082...</td>\n",
       "      <td>0x8da20a81aa510c420d5a81d62cbbd013e7c76d9e</td>\n",
       "      <td>7300</td>\n",
       "      <td>eth_std</td>\n",
       "      <td>0x529ae252e20af8880f968843224be0ef0e1e6607bead...</td>\n",
       "      <td>mainnet</td>\n",
       "      <td>ETH</td>\n",
       "      <td>1.502725</td>\n",
       "      <td>2022-09-15 23:54:28.887513+00:00</td>\n",
       "    </tr>\n",
       "    <tr>\n",
       "      <th>286840</th>\n",
       "      <td>f3fc8b05087a4c221b94a8ca0a5a6109b8d91247f00b82...</td>\n",
       "      <td>dd96030dc1ba5082b941ef9c8709438debc5ce8d2675da...</td>\n",
       "      <td>0x8da20a81aa510c420d5a81d62cbbd013e7c76d9e</td>\n",
       "      <td>7300</td>\n",
       "      <td>eth_std</td>\n",
       "      <td>0x9d07af779a34ed5f6744225e9a0a9620b9cf7cff864b...</td>\n",
       "      <td>mainnet</td>\n",
       "      <td>ETH</td>\n",
       "      <td>25.019325</td>\n",
       "      <td>2022-09-16 17:06:36.524997+00:00</td>\n",
       "    </tr>\n",
       "  </tbody>\n",
       "</table>\n",
       "</div>"
      ],
      "text/plain": [
       "                                                   txn_id  \\\n",
       "302795  02532b03b40597b7e2f45e9fb5cb94020e05ffe1acb180...   \n",
       "286840  f3fc8b05087a4c221b94a8ca0a5a6109b8d91247f00b82...   \n",
       "\n",
       "                                                  user_id  \\\n",
       "302795  e605583cc7f57addbc2106b42510853efec4ba23bd5082...   \n",
       "286840  dd96030dc1ba5082b941ef9c8709438debc5ce8d2675da...   \n",
       "\n",
       "                                           address  grant_id    chain  \\\n",
       "302795  0x8da20a81aa510c420d5a81d62cbbd013e7c76d9e      7300  eth_std   \n",
       "286840  0x8da20a81aa510c420d5a81d62cbbd013e7c76d9e      7300  eth_std   \n",
       "\n",
       "                                                 txn_hash  network token  \\\n",
       "302795  0x529ae252e20af8880f968843224be0ef0e1e6607bead...  mainnet   ETH   \n",
       "286840  0x9d07af779a34ed5f6744225e9a0a9620b9cf7cff864b...  mainnet   ETH   \n",
       "\n",
       "        amount_in_usdt                         timestamp  \n",
       "302795        1.502725  2022-09-15 23:54:28.887513+00:00  \n",
       "286840       25.019325  2022-09-16 17:06:36.524997+00:00  "
      ]
     },
     "metadata": {},
     "output_type": "display_data"
    },
    {
     "data": {
      "text/html": [
       "<div>\n",
       "<style scoped>\n",
       "    .dataframe tbody tr th:only-of-type {\n",
       "        vertical-align: middle;\n",
       "    }\n",
       "\n",
       "    .dataframe tbody tr th {\n",
       "        vertical-align: top;\n",
       "    }\n",
       "\n",
       "    .dataframe thead th {\n",
       "        text-align: right;\n",
       "    }\n",
       "</style>\n",
       "<table border=\"1\" class=\"dataframe\">\n",
       "  <thead>\n",
       "    <tr style=\"text-align: right;\">\n",
       "      <th></th>\n",
       "      <th>txn_id</th>\n",
       "      <th>user_id</th>\n",
       "      <th>address</th>\n",
       "      <th>grant_id</th>\n",
       "      <th>chain</th>\n",
       "      <th>txn_hash</th>\n",
       "      <th>network</th>\n",
       "      <th>token</th>\n",
       "      <th>amount_in_usdt</th>\n",
       "      <th>timestamp</th>\n",
       "    </tr>\n",
       "  </thead>\n",
       "  <tbody>\n",
       "    <tr>\n",
       "      <th>309470</th>\n",
       "      <td>9cb99274079adb1ca2526a08e9b4749c7f4dfd34770305...</td>\n",
       "      <td>6434cd3876df3b4c6be72a9eec4e23a4799193d92d856a...</td>\n",
       "      <td>0x784c1bbf7135cf8c84869e5dfcfedf378d0721d9</td>\n",
       "      <td>7300</td>\n",
       "      <td>eth_zksync</td>\n",
       "      <td>sync-tx:deb6b8bd87a52c898ccd4185682e71b9e80f24...</td>\n",
       "      <td>mainnet</td>\n",
       "      <td>DAI</td>\n",
       "      <td>1.0</td>\n",
       "      <td>2022-09-15 12:07:30.506888+00:00</td>\n",
       "    </tr>\n",
       "    <tr>\n",
       "      <th>306920</th>\n",
       "      <td>7a3f05dbb1d61e3fbe084d7d488acd94dbb96e0791214a...</td>\n",
       "      <td>a8463943947b6e5c65c274ae3d2f54d25d4526de66d6b3...</td>\n",
       "      <td>0x784c1bbf7135cf8c84869e5dfcfedf378d0721d9</td>\n",
       "      <td>7300</td>\n",
       "      <td>eth_zksync</td>\n",
       "      <td>sync-tx:a5dcc22b266dc8aae1f55960ee29073530362c...</td>\n",
       "      <td>mainnet</td>\n",
       "      <td>DAI</td>\n",
       "      <td>1.0</td>\n",
       "      <td>2022-09-15 14:03:04.970205+00:00</td>\n",
       "    </tr>\n",
       "  </tbody>\n",
       "</table>\n",
       "</div>"
      ],
      "text/plain": [
       "                                                   txn_id  \\\n",
       "309470  9cb99274079adb1ca2526a08e9b4749c7f4dfd34770305...   \n",
       "306920  7a3f05dbb1d61e3fbe084d7d488acd94dbb96e0791214a...   \n",
       "\n",
       "                                                  user_id  \\\n",
       "309470  6434cd3876df3b4c6be72a9eec4e23a4799193d92d856a...   \n",
       "306920  a8463943947b6e5c65c274ae3d2f54d25d4526de66d6b3...   \n",
       "\n",
       "                                           address  grant_id       chain  \\\n",
       "309470  0x784c1bbf7135cf8c84869e5dfcfedf378d0721d9      7300  eth_zksync   \n",
       "306920  0x784c1bbf7135cf8c84869e5dfcfedf378d0721d9      7300  eth_zksync   \n",
       "\n",
       "                                                 txn_hash  network token  \\\n",
       "309470  sync-tx:deb6b8bd87a52c898ccd4185682e71b9e80f24...  mainnet   DAI   \n",
       "306920  sync-tx:a5dcc22b266dc8aae1f55960ee29073530362c...  mainnet   DAI   \n",
       "\n",
       "        amount_in_usdt                         timestamp  \n",
       "309470             1.0  2022-09-15 12:07:30.506888+00:00  \n",
       "306920             1.0  2022-09-15 14:03:04.970205+00:00  "
      ]
     },
     "metadata": {},
     "output_type": "display_data"
    }
   ],
   "source": [
    "for addr in ['0x8da20a81aa510c420d5a81d62cbbd013e7c76d9e',\n",
    "             '0x784c1bbf7135cf8c84869e5dfcfedf378d0721d9']:\n",
    "    display(df_contrib_sub.loc[df_contrib_sub['address'] == addr])"
   ]
  },
  {
   "cell_type": "markdown",
   "id": "9b9cb8af",
   "metadata": {},
   "source": [
    "## User ID with several addresses"
   ]
  },
  {
   "cell_type": "code",
   "execution_count": 188,
   "id": "baf1ab3d",
   "metadata": {},
   "outputs": [
    {
     "data": {
      "text/plain": [
       "user_id\n",
       "5c17351a16e2381e8f7f025ce508de9a11cb120497556ff89da380ac3fc56ee3    7\n",
       "38f5857fbb681121c6103fc75722413ab556efe16f1e3772cd3e59e5ae7f3732    2\n",
       "e605583cc7f57addbc2106b42510853efec4ba23bd50820e7dfd65ea26bf1868    2\n",
       "008664cef10287b8e8955937c13afe25ebd256b08bace6f0544de4a86ae0f7d5    1\n",
       "b1997eca88ba1e2f1f497a70443a568fd1404f0a535fa5e4b68807b26925a230    1\n",
       "Name: address, dtype: int64"
      ]
     },
     "execution_count": 188,
     "metadata": {},
     "output_type": "execute_result"
    }
   ],
   "source": [
    "df_contrib_sub.groupby('user_id')['address'].nunique().sort_values(ascending=False).head(5)"
   ]
  },
  {
   "cell_type": "markdown",
   "id": "e8fc68ec",
   "metadata": {},
   "source": [
    "There were 5 user_id who used at least two different addresses to contribute to the grant. Let's dive into user `5c17351a16e2381e8f7f025ce508de9a11cb120497556ff89da380ac3fc56ee3`."
   ]
  },
  {
   "cell_type": "code",
   "execution_count": 189,
   "id": "af479cde",
   "metadata": {},
   "outputs": [
    {
     "data": {
      "text/html": [
       "<div>\n",
       "<style scoped>\n",
       "    .dataframe tbody tr th:only-of-type {\n",
       "        vertical-align: middle;\n",
       "    }\n",
       "\n",
       "    .dataframe tbody tr th {\n",
       "        vertical-align: top;\n",
       "    }\n",
       "\n",
       "    .dataframe thead th {\n",
       "        text-align: right;\n",
       "    }\n",
       "</style>\n",
       "<table border=\"1\" class=\"dataframe\">\n",
       "  <thead>\n",
       "    <tr style=\"text-align: right;\">\n",
       "      <th></th>\n",
       "      <th>txn_id</th>\n",
       "      <th>user_id</th>\n",
       "      <th>address</th>\n",
       "      <th>grant_id</th>\n",
       "      <th>chain</th>\n",
       "      <th>txn_hash</th>\n",
       "      <th>network</th>\n",
       "      <th>token</th>\n",
       "      <th>amount_in_usdt</th>\n",
       "      <th>timestamp</th>\n",
       "    </tr>\n",
       "  </thead>\n",
       "  <tbody>\n",
       "    <tr>\n",
       "      <th>442175</th>\n",
       "      <td>e29e4cc1e156f3e0086c5601491744bdd3f997a6835679...</td>\n",
       "      <td>5c17351a16e2381e8f7f025ce508de9a11cb120497556f...</td>\n",
       "      <td>0x78ca75106f5a940269c55dc9ff51e6c16c3407d4</td>\n",
       "      <td>7300</td>\n",
       "      <td>eth_zksync</td>\n",
       "      <td>sync-tx:0f3afa5d4fa56adf103a11e4a7d7b250fd7da2...</td>\n",
       "      <td>mainnet</td>\n",
       "      <td>ETH</td>\n",
       "      <td>1.027056</td>\n",
       "      <td>2022-09-10 02:40:06.733659+00:00</td>\n",
       "    </tr>\n",
       "    <tr>\n",
       "      <th>435097</th>\n",
       "      <td>794448b57b3e6066b4ca06b0101600796657aeb7cef738...</td>\n",
       "      <td>5c17351a16e2381e8f7f025ce508de9a11cb120497556f...</td>\n",
       "      <td>0x76608a1ede697de8945b495aa2c3a0f91fbf469d</td>\n",
       "      <td>7300</td>\n",
       "      <td>eth_zksync</td>\n",
       "      <td>sync-tx:315557526afb0166f080b80d43f036bcf9ccbc...</td>\n",
       "      <td>mainnet</td>\n",
       "      <td>ETH</td>\n",
       "      <td>1.039485</td>\n",
       "      <td>2022-09-10 11:54:19.686124+00:00</td>\n",
       "    </tr>\n",
       "    <tr>\n",
       "      <th>434362</th>\n",
       "      <td>764a7f65bad0682812e6f49c6b2a9b6a6aee496ee57d94...</td>\n",
       "      <td>5c17351a16e2381e8f7f025ce508de9a11cb120497556f...</td>\n",
       "      <td>0x50b4b60858f680695d665947c7e829c7b7123658</td>\n",
       "      <td>7300</td>\n",
       "      <td>eth_zksync</td>\n",
       "      <td>sync-tx:dc52a0fa885a8170dc4f91e94bd4fb869505dd...</td>\n",
       "      <td>mainnet</td>\n",
       "      <td>ETH</td>\n",
       "      <td>1.035978</td>\n",
       "      <td>2022-09-10 12:36:47.844457+00:00</td>\n",
       "    </tr>\n",
       "    <tr>\n",
       "      <th>434188</th>\n",
       "      <td>cb214c98b9244e7ebc417ecd43499f8de858a087bbd1ea...</td>\n",
       "      <td>5c17351a16e2381e8f7f025ce508de9a11cb120497556f...</td>\n",
       "      <td>0x4453719be5df4984b3a76a1edfdf0b8d91fb2761</td>\n",
       "      <td>7300</td>\n",
       "      <td>eth_zksync</td>\n",
       "      <td>sync-tx:d382f627c12c9cebba8bdf6157f001c1f251c3...</td>\n",
       "      <td>mainnet</td>\n",
       "      <td>ETH</td>\n",
       "      <td>1.035978</td>\n",
       "      <td>2022-09-10 12:49:51.506615+00:00</td>\n",
       "    </tr>\n",
       "    <tr>\n",
       "      <th>432986</th>\n",
       "      <td>d1269ab0efe81a30fa3a28835765c054f77d826fc6dcb9...</td>\n",
       "      <td>5c17351a16e2381e8f7f025ce508de9a11cb120497556f...</td>\n",
       "      <td>0x942259d956369d6bbaed10ca9f675fdf85104e7d</td>\n",
       "      <td>7300</td>\n",
       "      <td>eth_zksync</td>\n",
       "      <td>sync-tx:340c32c3fe52eb28b09caeb26681e3530700e2...</td>\n",
       "      <td>mainnet</td>\n",
       "      <td>ETH</td>\n",
       "      <td>1.035978</td>\n",
       "      <td>2022-09-10 14:03:33.185896+00:00</td>\n",
       "    </tr>\n",
       "    <tr>\n",
       "      <th>432738</th>\n",
       "      <td>028a5781ec8c16648a6556175e2f497e4d6186a415b6e3...</td>\n",
       "      <td>5c17351a16e2381e8f7f025ce508de9a11cb120497556f...</td>\n",
       "      <td>0xa83697deeeb9d86e4c2165d34814c7f4d9b139e8</td>\n",
       "      <td>7300</td>\n",
       "      <td>eth_zksync</td>\n",
       "      <td>sync-tx:02436b29770f84bce9e160610a8c428c298123...</td>\n",
       "      <td>mainnet</td>\n",
       "      <td>ETH</td>\n",
       "      <td>1.035978</td>\n",
       "      <td>2022-09-10 14:16:55.543733+00:00</td>\n",
       "    </tr>\n",
       "    <tr>\n",
       "      <th>432700</th>\n",
       "      <td>706fcefde137ecbd87b67fa5e2ca41920876caa400f007...</td>\n",
       "      <td>5c17351a16e2381e8f7f025ce508de9a11cb120497556f...</td>\n",
       "      <td>0xd20d9fb4f194bdca4ff401fe7a0f1a5d55f8385d</td>\n",
       "      <td>7300</td>\n",
       "      <td>eth_zksync</td>\n",
       "      <td>sync-tx:5ca876ce014a0302f32aa6c818ec6fe9d8db5e...</td>\n",
       "      <td>mainnet</td>\n",
       "      <td>ETH</td>\n",
       "      <td>1.035978</td>\n",
       "      <td>2022-09-10 14:19:50.527742+00:00</td>\n",
       "    </tr>\n",
       "  </tbody>\n",
       "</table>\n",
       "</div>"
      ],
      "text/plain": [
       "                                                   txn_id  \\\n",
       "442175  e29e4cc1e156f3e0086c5601491744bdd3f997a6835679...   \n",
       "435097  794448b57b3e6066b4ca06b0101600796657aeb7cef738...   \n",
       "434362  764a7f65bad0682812e6f49c6b2a9b6a6aee496ee57d94...   \n",
       "434188  cb214c98b9244e7ebc417ecd43499f8de858a087bbd1ea...   \n",
       "432986  d1269ab0efe81a30fa3a28835765c054f77d826fc6dcb9...   \n",
       "432738  028a5781ec8c16648a6556175e2f497e4d6186a415b6e3...   \n",
       "432700  706fcefde137ecbd87b67fa5e2ca41920876caa400f007...   \n",
       "\n",
       "                                                  user_id  \\\n",
       "442175  5c17351a16e2381e8f7f025ce508de9a11cb120497556f...   \n",
       "435097  5c17351a16e2381e8f7f025ce508de9a11cb120497556f...   \n",
       "434362  5c17351a16e2381e8f7f025ce508de9a11cb120497556f...   \n",
       "434188  5c17351a16e2381e8f7f025ce508de9a11cb120497556f...   \n",
       "432986  5c17351a16e2381e8f7f025ce508de9a11cb120497556f...   \n",
       "432738  5c17351a16e2381e8f7f025ce508de9a11cb120497556f...   \n",
       "432700  5c17351a16e2381e8f7f025ce508de9a11cb120497556f...   \n",
       "\n",
       "                                           address  grant_id       chain  \\\n",
       "442175  0x78ca75106f5a940269c55dc9ff51e6c16c3407d4      7300  eth_zksync   \n",
       "435097  0x76608a1ede697de8945b495aa2c3a0f91fbf469d      7300  eth_zksync   \n",
       "434362  0x50b4b60858f680695d665947c7e829c7b7123658      7300  eth_zksync   \n",
       "434188  0x4453719be5df4984b3a76a1edfdf0b8d91fb2761      7300  eth_zksync   \n",
       "432986  0x942259d956369d6bbaed10ca9f675fdf85104e7d      7300  eth_zksync   \n",
       "432738  0xa83697deeeb9d86e4c2165d34814c7f4d9b139e8      7300  eth_zksync   \n",
       "432700  0xd20d9fb4f194bdca4ff401fe7a0f1a5d55f8385d      7300  eth_zksync   \n",
       "\n",
       "                                                 txn_hash  network token  \\\n",
       "442175  sync-tx:0f3afa5d4fa56adf103a11e4a7d7b250fd7da2...  mainnet   ETH   \n",
       "435097  sync-tx:315557526afb0166f080b80d43f036bcf9ccbc...  mainnet   ETH   \n",
       "434362  sync-tx:dc52a0fa885a8170dc4f91e94bd4fb869505dd...  mainnet   ETH   \n",
       "434188  sync-tx:d382f627c12c9cebba8bdf6157f001c1f251c3...  mainnet   ETH   \n",
       "432986  sync-tx:340c32c3fe52eb28b09caeb26681e3530700e2...  mainnet   ETH   \n",
       "432738  sync-tx:02436b29770f84bce9e160610a8c428c298123...  mainnet   ETH   \n",
       "432700  sync-tx:5ca876ce014a0302f32aa6c818ec6fe9d8db5e...  mainnet   ETH   \n",
       "\n",
       "        amount_in_usdt                         timestamp  \n",
       "442175        1.027056  2022-09-10 02:40:06.733659+00:00  \n",
       "435097        1.039485  2022-09-10 11:54:19.686124+00:00  \n",
       "434362        1.035978  2022-09-10 12:36:47.844457+00:00  \n",
       "434188        1.035978  2022-09-10 12:49:51.506615+00:00  \n",
       "432986        1.035978  2022-09-10 14:03:33.185896+00:00  \n",
       "432738        1.035978  2022-09-10 14:16:55.543733+00:00  \n",
       "432700        1.035978  2022-09-10 14:19:50.527742+00:00  "
      ]
     },
     "execution_count": 189,
     "metadata": {},
     "output_type": "execute_result"
    }
   ],
   "source": [
    "df_contrib_sub.query(\"user_id == '5c17351a16e2381e8f7f025ce508de9a11cb120497556ff89da380ac3fc56ee3'\")\\\n",
    "              .sort_values(by='grant_id')"
   ]
  },
  {
   "cell_type": "markdown",
   "id": "5324480b",
   "metadata": {},
   "source": [
    "Interestingly, the user made 7 contributions on the same day of roughly the same amounts. Not sure what the rational could be behind this."
   ]
  },
  {
   "cell_type": "markdown",
   "id": "10f09cda",
   "metadata": {},
   "source": [
    "# Sybil detection\n",
    "\n",
    "## Detect Sybil in real time - Simulation\n",
    "\n",
    "In this section, we will try to mimic the behaviour which a real time sybil detector system could have. What we want is that, when a someone makes a contribution, we fetch data about the contributor & update the states of knowledge we have. The idea is to get more and more information about contributors, and the relations they have with each others, to know if there is a chance we are dealing with Sybils."
   ]
  },
  {
   "cell_type": "code",
   "execution_count": 222,
   "id": "cf773ba8",
   "metadata": {},
   "outputs": [],
   "source": [
    "from collections import Counter, defaultdict\n",
    "from bs4 import BeautifulSoup\n",
    "from tqdm import tqdm\n",
    "import time"
   ]
  },
  {
   "cell_type": "code",
   "execution_count": 191,
   "id": "394f7d16",
   "metadata": {},
   "outputs": [],
   "source": [
    "ETHERSCAN_API_KEY = SET_YOUR_API_KEY_HERE \n",
    "MAX_ATTEMPT = 0\n",
    "PREFIX = 'api'"
   ]
  },
  {
   "cell_type": "code",
   "execution_count": 192,
   "id": "3bc08411",
   "metadata": {},
   "outputs": [],
   "source": [
    "def ens_lookup(address: str):\n",
    "    \"\"\"\n",
    "        Access etherscan's ens lookup page and returns the ENS name of an address\n",
    "    \"\"\"\n",
    "    url = f'https://etherscan.io/enslookup-search?search={address}'\n",
    "\n",
    "    # Access the url\n",
    "    try:\n",
    "        result = requests.get(url,headers={'User-Agent': 'Mozilla/6.0'})\n",
    "    except:\n",
    "        print('Error while accessing the page.')\n",
    "        return -1\n",
    "        \n",
    "    if result.status_code == 200:\n",
    "        soup = BeautifulSoup(result.content, 'html.parser')\n",
    "        for s in soup.find(\"div\", {\"class\": \"col-md-9 d-flex mb-n1\"}):\n",
    "            return str(s.find(\"span\")).split('/>')[-1][:-7]\n",
    "\n",
    "    elif result.status_code == 404:\n",
    "        print('404 error.')\n",
    "        return -1"
   ]
  },
  {
   "cell_type": "code",
   "execution_count": 258,
   "id": "260371d4",
   "metadata": {},
   "outputs": [],
   "source": [
    "def get_transactions_counterparts(transactions: list):\n",
    "    \"\"\"\n",
    "        Given a list of transactions, returns the all the \"from\" and \"to\" addresses\n",
    "    \"\"\"\n",
    "    from_addr = Counter([r['from'] for r in transactions if r['from']!=address])\n",
    "    to_addr = Counter([r['to'] for r in transactions if r['to']!=address])\n",
    "\n",
    "    return from_addr, to_addr\n",
    "\n",
    "def get_first_transaction(transaction: dict, transaction_erc20: dict = None):\n",
    "    \"\"\"\n",
    "        Return the timestam, originator and value of a transaction.\n",
    "    \"\"\"\n",
    "    if transaction_erc20 is not None:\n",
    "        transaction = transaction if transaction['timeStamp'] < transaction_erc20['timeStamp'] else transaction_erc20\n",
    "    first_transaction = {}\n",
    "    first_transaction['timestamp'] = transaction['timeStamp']\n",
    "    first_transaction['from'] = transaction['from']\n",
    "    first_transaction['value'] = transaction['value']\n",
    "    return first_transaction\n",
    "\n",
    "def get_perc_of_gtc_bulk_checkout_transactions(transactions: list):\n",
    "    \"\"\"\n",
    "        Given a list a transactions, returns the percentages which were directed to\n",
    "        the gtc bulk checkout address.\n",
    "    \"\"\"\n",
    "    GTC_BULK_ADDR = '0x7d655c57f71464b6f83811c55d84009cd9f5221c'\n",
    "    gtc_trans = [r['hash'] for r in transactions if r['to'] == GTC_BULK_ADDR]\n",
    "    \n",
    "    return len(gtc_trans) / len(transactions)\n",
    "\n",
    "\n",
    "def get_total_fees_paid(transactions: list):\n",
    "    return sum([float(r['gasUsed']) * float(r['gasPrice']) * 1e-9**2 for r in transactions])"
   ]
  },
  {
   "cell_type": "code",
   "execution_count": 264,
   "id": "512a4d1a",
   "metadata": {},
   "outputs": [],
   "source": [
    "def get_on_chain_info(address: str):\n",
    "    \"\"\"\n",
    "        Given an eth address, extract its transaction from etherscan and compute a set of \n",
    "        selected information.\n",
    "    \"\"\"\n",
    "    result = {}\n",
    "    transactions_base = requests.get(\n",
    "            f\"https://{PREFIX}.etherscan.io/api?module=account&action=txlist&address={address}&startblock=0&endblock=99999999&page=1&offset={MAX_ATTEMPT}&sort=desc&apikey={ETHERSCAN_API_KEY}\"\n",
    "        ).json()\n",
    "    \n",
    "    transactions_erc20 = requests.get(\n",
    "            f\"https://{PREFIX}.etherscan.io/api?module=account&action=tokentx&address={address}&startblock=0&endblock=99999999&page=1&offset={MAX_ATTEMPT}&sort=desc&apikey={ETHERSCAN_API_KEY}\"\n",
    "        ).json()\n",
    "    \n",
    "    \n",
    "    if transactions_base['status'] == '1':\n",
    "        transactions = transactions_base['result']\n",
    "        if transactions_erc20['status'] == '1':\n",
    "            transactions += transactions_erc20['result']\n",
    "            result['first_transaction'] = get_first_transaction(transactions_base['result'][-1], transactions_erc20['result'][-1])\n",
    "        else:\n",
    "            result['first_transaction'] = get_first_transaction(transactions_base['result'][-1])\n",
    "\n",
    "        _from, _to = get_transactions_counterparts(transactions)\n",
    "        result['from_all'] = _from\n",
    "        result['to_all'] = _to\n",
    "        result['perc_gtc_bulk_trans'] = get_perc_of_gtc_bulk_checkout_transactions(transactions)\n",
    "        result['total_fees_paid'] = get_total_fees_paid(transactions)\n",
    "        result['n_transactions'] = len(transactions)\n",
    "        \n",
    "    return result"
   ]
  },
  {
   "cell_type": "code",
   "execution_count": 265,
   "id": "6e442ad3",
   "metadata": {
    "scrolled": false
   },
   "outputs": [
    {
     "name": "stderr",
     "output_type": "stream",
     "text": [
      " 36%|███████████████▏                          | 94/260 [07:14<09:59,  3.61s/it]"
     ]
    },
    {
     "name": "stdout",
     "output_type": "stream",
     "text": [
      "Suspect activity from 0xea4d28f8218f44c84c8d7cbae5deac41acf66ced - more than 33% of its transaction are for GTC grants\n",
      "This account was original funded by 0x4976a4a02f38326660d17bf34b431dc6e2eb2327\n"
     ]
    },
    {
     "name": "stderr",
     "output_type": "stream",
     "text": [
      " 46%|██████████████████▊                      | 119/260 [09:07<07:09,  3.05s/it]"
     ]
    },
    {
     "name": "stdout",
     "output_type": "stream",
     "text": [
      "2022-09-17 09:58:59.982633+00:00 - Warning: 0x8c4136f2073c69323f57c7b5b12100464244243b () & 0x455f491985c2f18b2c77d181f009ee6bdc41b1f8 () are likely to be related\n",
      "Suspect activity from 0x8c4136f2073c69323f57c7b5b12100464244243b - more than 33% of its transaction are for GTC grants\n",
      "This account was original funded by 0x455f491985c2f18b2c77d181f009ee6bdc41b1f8\n",
      "Funder also contributed to this grant\n"
     ]
    },
    {
     "name": "stderr",
     "output_type": "stream",
     "text": [
      " 61%|█████████████████████████                | 159/260 [12:02<09:46,  5.81s/it]"
     ]
    },
    {
     "name": "stdout",
     "output_type": "stream",
     "text": [
      "2022-09-20 05:52:24.101362+00:00 - Warning: 0x92dc6fcb703d46e90d363290181379cee79e192a () & 0xf511488dc73a003891d9143bcee308ca2c934e48 () are likely to be related\n",
      "2022-09-20 05:52:24.101362+00:00 - Warning: 0x92dc6fcb703d46e90d363290181379cee79e192a () & 0xfff208c3b48545f52f0937fbfeb5d11728baad6e () are likely to be related\n",
      "2022-09-20 05:52:24.101362+00:00 - Warning: 0x92dc6fcb703d46e90d363290181379cee79e192a () & 0x79c2d72552df1c5d551b812eca906a90ce9d840a () are likely to be related\n",
      "2022-09-20 05:52:24.101362+00:00 - Warning: 0x92dc6fcb703d46e90d363290181379cee79e192a () & 0xd65d541ef44967b0812787a4d42bfe7fb681b5af (correolas.eth) are likely to be related\n"
     ]
    },
    {
     "name": "stderr",
     "output_type": "stream",
     "text": [
      " 80%|████████████████████████████████▉        | 209/260 [15:01<02:17,  2.70s/it]"
     ]
    },
    {
     "name": "stdout",
     "output_type": "stream",
     "text": [
      "Suspect activity from 0xb8afab52cf30762bb80d2a2c5905588bf275077a - more than 33% of its transaction are for GTC grants\n",
      "This account was original funded by 0xddfabcdc4d8ffc6d5beaf154f18b778f892a0740\n"
     ]
    },
    {
     "name": "stderr",
     "output_type": "stream",
     "text": [
      " 81%|█████████████████████████████████▎       | 211/260 [15:07<02:14,  2.74s/it]"
     ]
    },
    {
     "name": "stdout",
     "output_type": "stream",
     "text": [
      "2022-09-22 01:15:07.260410+00:00 - Warning: 0x6e13285a1b24b4b7512f56fc2969a270ba0bb92f () & 0x7f722b8b013ac7bd654b3b102acc7573a32db9bc (anamariamb16.eth) are likely to be related\n",
      "2022-09-22 01:15:07.260410+00:00 - Warning: 0x6e13285a1b24b4b7512f56fc2969a270ba0bb92f () & 0x3cc9f396430bc766ac8aa57fc28aebc5919a5d81 () are likely to be related\n",
      "2022-09-22 01:15:07.260410+00:00 - Warning: 0x6e13285a1b24b4b7512f56fc2969a270ba0bb92f () & 0x63757e9c621ae7963f2db2c7f02a1cdd89d6375d () are likely to be related\n",
      "2022-09-22 01:15:07.260410+00:00 - Warning: 0x6e13285a1b24b4b7512f56fc2969a270ba0bb92f () & 0x86579ebce57605929da73d8ce17f40960c3b052a (shambadmrv.eth) are likely to be related\n",
      "2022-09-22 01:15:07.260410+00:00 - Warning: 0x6e13285a1b24b4b7512f56fc2969a270ba0bb92f () & 0xa7ca400d49bba87eb606ee05af93689bd21fab99 () are likely to be related\n"
     ]
    },
    {
     "name": "stderr",
     "output_type": "stream",
     "text": [
      " 88%|████████████████████████████████████▎    | 230/260 [16:14<01:31,  3.05s/it]"
     ]
    },
    {
     "name": "stdout",
     "output_type": "stream",
     "text": [
      "Suspect activity from 0x0bd3d73638679b616022e785b898557ce43c16ea - more than 33% of its transaction are for GTC grants\n",
      "This account was original funded by 0x22bc0693163ec3cee5ded3c2ee55ddbcb2ba9bbe\n"
     ]
    },
    {
     "name": "stderr",
     "output_type": "stream",
     "text": [
      " 95%|███████████████████████████████████████  | 248/260 [17:29<01:26,  7.18s/it]"
     ]
    },
    {
     "name": "stdout",
     "output_type": "stream",
     "text": [
      "Suspect activity from 0xa246d89f06f5fa8438ed877544aede68061e2c8f - more than 33% of its transaction are for GTC grants\n",
      "This account was original funded by 0x4d846da8257bb0ebd164eff513dff0f0c2c3c0ba\n"
     ]
    },
    {
     "name": "stderr",
     "output_type": "stream",
     "text": [
      "100%|█████████████████████████████████████████| 260/260 [18:33<00:00,  4.28s/it]\n"
     ]
    }
   ],
   "source": [
    "address_state = Counter()\n",
    "address_contrib = defaultdict(lambda: [])\n",
    "address_ens = dict()\n",
    "address_tr = dict()\n",
    "address_on_chain_info = dict()\n",
    "\n",
    "fund_creator = '0x7fc1a3D5264a2B2563162EbAF17180ED2e5804BC'\n",
    "prev_address = ''\n",
    "\n",
    "def record_info(on_chain_info, address):\n",
    "    address_on_chain_info[row.address] = on_chain_info\n",
    "    _from = on_chain_info['from_all']\n",
    "    _to = on_chain_info['to_all']\n",
    "    address_tr[row.address] = _from + _to\n",
    "        \n",
    "\n",
    "for i, row in tqdm(enumerate(df_contrib_sub.itertuples()), total=len(df_contrib_sub)):\n",
    "    \n",
    "    address_state[row.address] += 1\n",
    "    address_contrib[row.address] += [row.amount_in_usdt]\n",
    "    \n",
    "    if row.address == prev_address:\n",
    "        continue\n",
    "\n",
    "    if row.address not in address_tr:\n",
    "        # Get ENS name (if any) - There is a limit in how many request per minutes we can do.\n",
    "        # So not entirely reliable\n",
    "        address_ens[row.address] = ens_lookup(row.address)\n",
    "        time.sleep(1)\n",
    "        # Get on chain info\n",
    "        on_chain_info = get_on_chain_info(row.address)\n",
    "        if on_chain_info == {}:\n",
    "            continue\n",
    "        _from = on_chain_info['from_all']\n",
    "        _to = on_chain_info['to_all']\n",
    "        \n",
    "        record_info(on_chain_info, row.address)\n",
    "        \n",
    "        # Assume a relatively large amnt of transaction remove suspicion\n",
    "        if on_chain_info['n_transactions'] > 50:\n",
    "            continue\n",
    "            \n",
    "        # Signal - related to past transactions\n",
    "        CNT = 0\n",
    "        for key in address_tr:\n",
    "            if (key != row.address) and (key in address_tr[row.address]):\n",
    "                CNT += 1\n",
    "                # print('#' * 70)\n",
    "                # print(f'Warning: {key} and {row.address} transacted before.')\n",
    "                tot_from = sum(_from.values())\n",
    "                tot_to = sum(_to.values())\n",
    "                \n",
    "                perc_rec = _from[key]/tot_from\n",
    "                perc_emit = _to[key]/tot_to\n",
    "                if perc_rec > 0.33:\n",
    "                    CNT += 1\n",
    "                    # print(f'{key} ({address_ens[key]}) ->  {row.address} ({address_ens[row.address]}) accounts for {perc_rec:.2f}% of transactions {row.address} interacted with (as receiver).')\n",
    "                \n",
    "                if perc_emit > 0.33:\n",
    "                    CNT += 1\n",
    "                    # print(f'{row.address} ({address_ens[row.address]}) -> {key} ({address_ens[key]}) accounts for {perc_emit:.2f}% of transactions {row.address} interacted with (as emitter).')\n",
    "                \n",
    "                counterpart_intersects = np.intersect1d(\n",
    "                                    list(address_tr[row.address].keys()),\n",
    "                                    list(address_tr[key].keys())\n",
    "                                )\n",
    "                perc_inter = 100 * len(counterpart_intersects) / len(list(address_tr[row.address].keys()))\n",
    "                if perc_inter >= 50:\n",
    "                    CNT += 1\n",
    "                    # print(f\"Furthermore, {perc_inter:.3f}% of the counterparts of {row.address} are shared with {key}\")\n",
    "                \n",
    "                if key == on_chain_info['first_transaction']['from']:\n",
    "                    # print(f\"{key} originally funded {row.address}\")\n",
    "                    CNT += 2\n",
    "                    \n",
    "                if address_on_chain_info[key]['first_transaction']['from'] == on_chain_info['first_transaction']['from']:\n",
    "                    # Same original funder\n",
    "                    CNT += 2\n",
    "                \n",
    "                if CNT > 4:\n",
    "                    print(f'{row.timestamp} - Warning: {row.address} ({address_ens[row.address]}) & {key} ({address_ens[key]}) are likely to be related')\n",
    "        \n",
    "        if (on_chain_info['perc_gtc_bulk_trans'] > 0.33) & (on_chain_info['total_fees_paid'] < 0.05):\n",
    "            print(f'Suspect activity from {row.address} - more than 33% of its transaction are for GTC grants')\n",
    "            funder = on_chain_info['first_transaction']['from']\n",
    "            print(f'This account was original funded by {funder}')\n",
    "            if funder in df_contrib_sub.iloc[:i]['address'].unique():\n",
    "                print(f\"Funder also contributed to this grant\")\n",
    "                \n",
    "    if fund_creator in address_tr[row.address]:\n",
    "        print('Warning: Past interaction with the creator of the grant.')\n",
    "    \n",
    "    prev_address = row.address"
   ]
  },
  {
   "cell_type": "markdown",
   "id": "c4c6e337",
   "metadata": {},
   "source": [
    "# Solution Summary\n",
    "\n",
    "Basically, the solution proposed is very simple. When a user makes a contribution, we get its past transactions user etherscan API (warning, this is ill defined at the moment since we query future information which were not available at the time the user actually contributed to the grant) and check a few things:\n",
    "\n",
    "- List of addresses the user interacted with, and we compare it against previous contributors\n",
    " - If similar, we try to see if they are mainly exchanging between each other\n",
    " - Or if they have very similar activities on chain (transactions to same addresses)\n",
    "- How many total activies on chain? If large enough, we assume the user its legit\n",
    "- What else than doing contribution the address is used for ?\n",
    "- How many spent on fees? If it's large, then probably the user is legit too.\n",
    "\n",
    "Then, depending on whether one or more of this apply, we raise a flag and decide to investigate - or if, thanks to a validation set, we happen to find that our solution is accurate enough, we could simply automatically reject a contribution."
   ]
  },
  {
   "cell_type": "markdown",
   "id": "ab868dbd",
   "metadata": {},
   "source": [
    "# Suspicious addresses analysis\n",
    "\n",
    "With our method, we found that 7 addresses raised a flag, by analysing activies on etherscan, we concluded that: \n",
    "\n",
    "- `0xea4d28f8218f44c84c8d7cbae5deac41acf66ced` - Difficult to conclude. Its fund came from CEX and it did nothing else but funding the grant.\n",
    "\n",
    "- `0x8c4136f2073c69323f57c7b5b12100464244243b` is suspect. It did nothing else but contributing to the grant get its ETH from `0x455f491985c2f18b2c77d181f009ee6bdc41b1f8` which also contributed to the grant. Might be sybils.\n",
    "\n",
    "- `0x92dc6fcb703d46e90d363290181379cee79e192a` - Seems legit\n",
    "\n",
    "- `0xb8afab52cf30762bb80d2a2c5905588bf275077a` - Difficult to conclude. Its fund came from CEX and it did nothing else but funding the grant.\n",
    "\n",
    "- `0x6e13285a1b24b4b7512f56fc2969a270ba0bb92f` seems legit.\n",
    "\n",
    "- `0x0bd3d73638679b616022e785b898557ce43c16ea` - Difficult to concldue due to very few activities on chain.\n",
    "\n",
    "- `0xa246d89f06f5fa8438ed877544aede68061e2c8f` - Difficult to conclude. Its fund came from CEX and it did nothing else but funding the grant.\n",
    "\n",
    "2/7 were most likely actual users, and the remaining 5 remains suspicious, especially `0x8c4136f2073c69323f57c7b5b12100464244243b`. "
   ]
  },
  {
   "cell_type": "markdown",
   "id": "34cb0911",
   "metadata": {},
   "source": [
    "# Conclusion\n",
    "\n",
    "In this notebook - I worked on a (small) solution trying to find sybils during a grant funding on gitcoin using on-chain data only. The approach consists mainly in retrieving historical transaction of each address making a contribution, and trying to find relationship with previous contributors.\n",
    "\n",
    "It is not an easy project to solve - we found very few potential sybils and some false positive - but we chose to be pretty conservative. The simple rule based method we applied could be greatly improved if we could apply supervised - or weakly supervised - training method on top (it would also require us to format the data in a more ML-friendly way).\n",
    "\n",
    "Of course, this solution isn't ready for production and it could be enriched with various additional source of data in order to yield better performances. This includes:\n",
    "\n",
    "- Better formatting and exploiting transaction data and graph\n",
    "- Dig into ENS name and check for NFT or POAP activities (this could reduce suspicion)\n",
    "- Try to connect ETH address/ENS to twitter handle (could be present in description, or other...) to expand the knowledge graph\n",
    "- etc."
   ]
  },
  {
   "cell_type": "code",
   "execution_count": null,
   "id": "618e4c7b",
   "metadata": {},
   "outputs": [],
   "source": []
  }
 ],
 "metadata": {
  "kernelspec": {
   "display_name": "Python 3 (ipykernel)",
   "language": "python",
   "name": "python3"
  },
  "language_info": {
   "codemirror_mode": {
    "name": "ipython",
    "version": 3
   },
   "file_extension": ".py",
   "mimetype": "text/x-python",
   "name": "python",
   "nbconvert_exporter": "python",
   "pygments_lexer": "ipython3",
   "version": "3.10.7"
  }
 },
 "nbformat": 4,
 "nbformat_minor": 5
}
